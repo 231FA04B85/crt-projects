{
  "nbformat": 4,
  "nbformat_minor": 0,
  "metadata": {
    "colab": {
      "provenance": []
    },
    "kernelspec": {
      "name": "python3",
      "display_name": "Python 3"
    },
    "language_info": {
      "name": "python"
    },
    "widgets": {
      "application/vnd.jupyter.widget-state+json": {
        "344f62bad08e4712b7bd4372b805fd47": {
          "model_module": "@jupyter-widgets/controls",
          "model_name": "DropdownModel",
          "model_module_version": "1.5.0",
          "state": {
            "_dom_classes": [],
            "_model_module": "@jupyter-widgets/controls",
            "_model_module_version": "1.5.0",
            "_model_name": "DropdownModel",
            "_options_labels": [
              "Select an option",
              "1. Show Class Schedule",
              "2. Campus News",
              "3. Faculty Contact",
              "4. Exit"
            ],
            "_view_count": null,
            "_view_module": "@jupyter-widgets/controls",
            "_view_module_version": "1.5.0",
            "_view_name": "DropdownView",
            "description": "Choose:",
            "description_tooltip": null,
            "disabled": false,
            "index": 0,
            "layout": "IPY_MODEL_1c506284a0a8475782c3c649fd4f8075",
            "style": "IPY_MODEL_868fe211b6e449458e9a6413192847d2"
          }
        },
        "1c506284a0a8475782c3c649fd4f8075": {
          "model_module": "@jupyter-widgets/base",
          "model_name": "LayoutModel",
          "model_module_version": "1.2.0",
          "state": {
            "_model_module": "@jupyter-widgets/base",
            "_model_module_version": "1.2.0",
            "_model_name": "LayoutModel",
            "_view_count": null,
            "_view_module": "@jupyter-widgets/base",
            "_view_module_version": "1.2.0",
            "_view_name": "LayoutView",
            "align_content": null,
            "align_items": null,
            "align_self": null,
            "border": null,
            "bottom": null,
            "display": null,
            "flex": null,
            "flex_flow": null,
            "grid_area": null,
            "grid_auto_columns": null,
            "grid_auto_flow": null,
            "grid_auto_rows": null,
            "grid_column": null,
            "grid_gap": null,
            "grid_row": null,
            "grid_template_areas": null,
            "grid_template_columns": null,
            "grid_template_rows": null,
            "height": null,
            "justify_content": null,
            "justify_items": null,
            "left": null,
            "margin": null,
            "max_height": null,
            "max_width": null,
            "min_height": null,
            "min_width": null,
            "object_fit": null,
            "object_position": null,
            "order": null,
            "overflow": null,
            "overflow_x": null,
            "overflow_y": null,
            "padding": null,
            "right": null,
            "top": null,
            "visibility": null,
            "width": "60%"
          }
        },
        "868fe211b6e449458e9a6413192847d2": {
          "model_module": "@jupyter-widgets/controls",
          "model_name": "DescriptionStyleModel",
          "model_module_version": "1.5.0",
          "state": {
            "_model_module": "@jupyter-widgets/controls",
            "_model_module_version": "1.5.0",
            "_model_name": "DescriptionStyleModel",
            "_view_count": null,
            "_view_module": "@jupyter-widgets/base",
            "_view_module_version": "1.2.0",
            "_view_name": "StyleView",
            "description_width": "initial"
          }
        },
        "063fb493c13b4e7380930bead25b5c67": {
          "model_module": "@jupyter-widgets/output",
          "model_name": "OutputModel",
          "model_module_version": "1.0.0",
          "state": {
            "_dom_classes": [],
            "_model_module": "@jupyter-widgets/output",
            "_model_module_version": "1.0.0",
            "_model_name": "OutputModel",
            "_view_count": null,
            "_view_module": "@jupyter-widgets/output",
            "_view_module_version": "1.0.0",
            "_view_name": "OutputView",
            "layout": "IPY_MODEL_075f814cbf1e4578bdd8390b95a5e0a7",
            "msg_id": "",
            "outputs": []
          }
        },
        "075f814cbf1e4578bdd8390b95a5e0a7": {
          "model_module": "@jupyter-widgets/base",
          "model_name": "LayoutModel",
          "model_module_version": "1.2.0",
          "state": {
            "_model_module": "@jupyter-widgets/base",
            "_model_module_version": "1.2.0",
            "_model_name": "LayoutModel",
            "_view_count": null,
            "_view_module": "@jupyter-widgets/base",
            "_view_module_version": "1.2.0",
            "_view_name": "LayoutView",
            "align_content": null,
            "align_items": null,
            "align_self": null,
            "border": null,
            "bottom": null,
            "display": null,
            "flex": null,
            "flex_flow": null,
            "grid_area": null,
            "grid_auto_columns": null,
            "grid_auto_flow": null,
            "grid_auto_rows": null,
            "grid_column": null,
            "grid_gap": null,
            "grid_row": null,
            "grid_template_areas": null,
            "grid_template_columns": null,
            "grid_template_rows": null,
            "height": null,
            "justify_content": null,
            "justify_items": null,
            "left": null,
            "margin": null,
            "max_height": null,
            "max_width": null,
            "min_height": null,
            "min_width": null,
            "object_fit": null,
            "object_position": null,
            "order": null,
            "overflow": null,
            "overflow_x": null,
            "overflow_y": null,
            "padding": null,
            "right": null,
            "top": null,
            "visibility": null,
            "width": null
          }
        }
      }
    }
  },
  "cells": [
    {
      "cell_type": "code",
      "execution_count": null,
      "metadata": {
        "id": "d6JfXjzg7NOR"
      },
      "outputs": [],
      "source": [
        "import ipywidgets as widgets\n",
        "from IPython.display import display, clear_output\n"
      ]
    },
    {
      "cell_type": "code",
      "source": [
        "schedule = {\n",
        "    \"Monday\": \"9AM - Math, 11AM - Physics, 2PM - Programming\",\n",
        "    \"Tuesday\": \"10AM - English, 12PM - Electronics\",\n",
        "    \"Wednesday\": \"9AM - Programming, 1PM - Lab\",\n",
        "    \"Thursday\": \"10AM - Communication Skills, 2PM - Seminar\",\n",
        "    \"Friday\": \"9AM - Engineering Drawing, 12PM - Physics\"\n",
        "}\n"
      ],
      "metadata": {
        "id": "Kzvv4YBc7qLm"
      },
      "execution_count": null,
      "outputs": []
    },
    {
      "cell_type": "code",
      "source": [
        "contacts = {\n",
        "    \"Dr. Sharma\": \"sharma@university.edu\",\n",
        "    \"Prof. Ramesh\": \"ramesh@university.edu\",\n",
        "    \"Ms. Priya\": \"priya@university.edu\"\n",
        "}\n"
      ],
      "metadata": {
        "id": "VTuahhqg7z91"
      },
      "execution_count": null,
      "outputs": []
    },
    {
      "cell_type": "code",
      "source": [
        "menu = widgets.Dropdown(\n",
        "    options=[\n",
        "        ('Select an option', ''),\n",
        "        ('1. Show Class Schedule', '1'),\n",
        "        ('2. Campus News', '2'),\n",
        "        ('3. Faculty Contact', '3'),\n",
        "        ('4. Exit', '4')\n",
        "    ],\n",
        "    description='Choose:',\n",
        "    style={'description_width': 'initial'},\n",
        "    layout=widgets.Layout(width='60%')\n",
        ")\n"
      ],
      "metadata": {
        "id": "L-FjMnsS72pu"
      },
      "execution_count": null,
      "outputs": []
    },
    {
      "cell_type": "code",
      "source": [
        "output_box = widgets.Output()"
      ],
      "metadata": {
        "id": "fSgZ56CR75yM"
      },
      "execution_count": null,
      "outputs": []
    },
    {
      "cell_type": "code",
      "source": [
        "def show_schedule():\n",
        "    with output_box:\n",
        "        clear_output()\n",
        "        print(\"📅 Class Schedule\")\n",
        "        day_selector = widgets.Dropdown(options=list(schedule.keys()), description='Day:')\n",
        "        confirm_button = widgets.Button(description=\"Show Schedule\")"
      ],
      "metadata": {
        "id": "nwTtErRd79EU"
      },
      "execution_count": null,
      "outputs": []
    },
    {
      "cell_type": "code",
      "source": [
        " def on_confirm_clicked(b):\n",
        "            clear_output()\n",
        "            print(f\"Schedule for {day_selector.value}:\")\n",
        "            print(schedule[day_selector.value])\n",
        "            display(menu)"
      ],
      "metadata": {
        "id": "3veGJlYG8CE8"
      },
      "execution_count": null,
      "outputs": []
    },
    {
      "cell_type": "code",
      "source": [
        "            confirm_button.on_confirm_clicked-on_confirm_clicked\n",
        "            display(day_selector, confirm_button)"
      ],
      "metadata": {
        "colab": {
          "base_uri": "https://localhost:8080/",
          "height": 166
        },
        "id": "UdQVtDQY8FoM",
        "outputId": "961163a3-fda3-4c82-acc8-245436b70f2d"
      },
      "execution_count": null,
      "outputs": [
        {
          "output_type": "error",
          "ename": "NameError",
          "evalue": "name 'confirm_button' is not defined",
          "traceback": [
            "\u001b[0;31m---------------------------------------------------------------------------\u001b[0m",
            "\u001b[0;31mNameError\u001b[0m                                 Traceback (most recent call last)",
            "\u001b[0;32m<ipython-input-11-fecb7660fc73>\u001b[0m in \u001b[0;36m<cell line: 0>\u001b[0;34m()\u001b[0m\n\u001b[0;32m----> 1\u001b[0;31m \u001b[0mconfirm_button\u001b[0m\u001b[0;34m.\u001b[0m\u001b[0mon_confirm_clicked\u001b[0m\u001b[0;34m-\u001b[0m\u001b[0mon_confirm_clicked\u001b[0m\u001b[0;34m\u001b[0m\u001b[0;34m\u001b[0m\u001b[0m\n\u001b[0m\u001b[1;32m      2\u001b[0m \u001b[0mdisplay\u001b[0m\u001b[0;34m(\u001b[0m\u001b[0mday_selector\u001b[0m\u001b[0;34m,\u001b[0m \u001b[0mconfirm_button\u001b[0m\u001b[0;34m)\u001b[0m\u001b[0;34m\u001b[0m\u001b[0;34m\u001b[0m\u001b[0m\n",
            "\u001b[0;31mNameError\u001b[0m: name 'confirm_button' is not defined"
          ]
        }
      ]
    },
    {
      "cell_type": "code",
      "source": [
        "def campus_news():\n",
        "    with output_box:\n",
        "        clear_output()\n",
        "        print(\"\\n📢 Campus News:\")\n",
        "        print(\"- Mid-semester exams start next Monday.\")\n",
        "        print(\"- TechFest registrations open!\")\n",
        "        print(\"- Library will be closed on Friday.\\n\")\n",
        "        display(menu)"
      ],
      "metadata": {
        "id": "sHoGOuGb8J6D"
      },
      "execution_count": null,
      "outputs": []
    },
    {
      "cell_type": "code",
      "source": [
        "def faculty_contact():\n",
        "    with output_box:\n",
        "        clear_output()\n",
        "        print(\"👨‍🏫 Faculty Contact Info\")\n",
        "        faculty_selector = widgets.Dropdown(options=list(contacts.keys()), description='Faculty:')\n",
        "        confirm_button = widgets.Button(description=\"Get Contact\")"
      ],
      "metadata": {
        "id": "WVSjLCZ69N_M"
      },
      "execution_count": null,
      "outputs": []
    },
    {
      "cell_type": "code",
      "source": [
        "        def on_confirm_clicked(b):\n",
        "            clear_output()\n",
        "            name = faculty_selector.value\n",
        "            print(f\"Contact for {name}: {contacts[name]}\")\n",
        "            display(menu)"
      ],
      "metadata": {
        "id": "ykuoAw2Z9Rok"
      },
      "execution_count": null,
      "outputs": []
    },
    {
      "cell_type": "code",
      "source": [
        "        confirm_button.on_click(on_confirm_clicked)\n",
        "        display(faculty_selector, confirm_button)"
      ],
      "metadata": {
        "colab": {
          "base_uri": "https://localhost:8080/",
          "height": 166
        },
        "id": "KGnyvlvp9URk",
        "outputId": "91d2cf34-fe1a-4789-a078-11f0eb261d0f"
      },
      "execution_count": null,
      "outputs": [
        {
          "output_type": "error",
          "ename": "NameError",
          "evalue": "name 'confirm_button' is not defined",
          "traceback": [
            "\u001b[0;31m---------------------------------------------------------------------------\u001b[0m",
            "\u001b[0;31mNameError\u001b[0m                                 Traceback (most recent call last)",
            "\u001b[0;32m<ipython-input-15-cb4647d85d14>\u001b[0m in \u001b[0;36m<cell line: 0>\u001b[0;34m()\u001b[0m\n\u001b[0;32m----> 1\u001b[0;31m \u001b[0mconfirm_button\u001b[0m\u001b[0;34m.\u001b[0m\u001b[0mon_click\u001b[0m\u001b[0;34m(\u001b[0m\u001b[0mon_confirm_clicked\u001b[0m\u001b[0;34m)\u001b[0m\u001b[0;34m\u001b[0m\u001b[0;34m\u001b[0m\u001b[0m\n\u001b[0m\u001b[1;32m      2\u001b[0m \u001b[0mdisplay\u001b[0m\u001b[0;34m(\u001b[0m\u001b[0mfaculty_selector\u001b[0m\u001b[0;34m,\u001b[0m \u001b[0mconfirm_button\u001b[0m\u001b[0;34m)\u001b[0m\u001b[0;34m\u001b[0m\u001b[0;34m\u001b[0m\u001b[0m\n",
            "\u001b[0;31mNameError\u001b[0m: name 'confirm_button' is not defined"
          ]
        }
      ]
    },
    {
      "cell_type": "code",
      "source": [
        "def on_menu_change(change):\n",
        "    if change['new'] == '':\n",
        "        return\n",
        "    choice = change['new']\n",
        "    if choice == '1':\n",
        "        show_schedule()\n",
        "    elif choice == '2':\n",
        "        campus_news()\n",
        "    elif choice == '3':\n",
        "        faculty_contact()\n",
        "    elif choice == '4':\n",
        "        with output_box:\n",
        "            clear_output()\n",
        "            print(\"Goodbye! Have a great day! 👋\")\n",
        "        menu.disabled = True"
      ],
      "metadata": {
        "id": "l0Pfaec69XT8"
      },
      "execution_count": null,
      "outputs": []
    },
    {
      "cell_type": "code",
      "source": [
        "menu.observe(on_menu_change, names='value')"
      ],
      "metadata": {
        "id": "l6bLTkvN9efk"
      },
      "execution_count": null,
      "outputs": []
    },
    {
      "cell_type": "code",
      "source": [
        "print(\"Hi! I'm your Campus Automation Bot 🤖\")\n",
        "print(\"How can I assist you today?\")\n",
        "display(menu, output_box)"
      ],
      "metadata": {
        "colab": {
          "base_uri": "https://localhost:8080/",
          "height": 86,
          "referenced_widgets": [
            "344f62bad08e4712b7bd4372b805fd47",
            "1c506284a0a8475782c3c649fd4f8075",
            "868fe211b6e449458e9a6413192847d2",
            "063fb493c13b4e7380930bead25b5c67",
            "075f814cbf1e4578bdd8390b95a5e0a7"
          ]
        },
        "id": "5bUmORLi9iWs",
        "outputId": "bae02ee5-6fef-44f3-9d6b-0e9db9898e83"
      },
      "execution_count": null,
      "outputs": [
        {
          "output_type": "stream",
          "name": "stdout",
          "text": [
            "Hi! I'm your Campus Automation Bot 🤖\n",
            "How can I assist you today?\n"
          ]
        },
        {
          "output_type": "display_data",
          "data": {
            "text/plain": [
              "Dropdown(description='Choose:', layout=Layout(width='60%'), options=(('Select an option', ''), ('1. Show Class…"
            ],
            "application/vnd.jupyter.widget-view+json": {
              "version_major": 2,
              "version_minor": 0,
              "model_id": "344f62bad08e4712b7bd4372b805fd47"
            }
          },
          "metadata": {}
        },
        {
          "output_type": "display_data",
          "data": {
            "text/plain": [
              "Output()"
            ],
            "application/vnd.jupyter.widget-view+json": {
              "version_major": 2,
              "version_minor": 0,
              "model_id": "063fb493c13b4e7380930bead25b5c67"
            }
          },
          "metadata": {}
        }
      ]
    },
    {
      "cell_type": "code",
      "source": [],
      "metadata": {
        "id": "u1q9vtSo9l6A"
      },
      "execution_count": null,
      "outputs": []
    }
  ]
}